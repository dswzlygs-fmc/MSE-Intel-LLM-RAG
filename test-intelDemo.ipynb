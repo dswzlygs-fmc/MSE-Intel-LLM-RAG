{
 "cells": [
  {
   "cell_type": "code",
   "execution_count": 1,
   "metadata": {},
   "outputs": [
    {
     "name": "stdout",
     "output_type": "stream",
     "text": [
      "Looking in indexes: https://pypi.tuna.tsinghua.edu.cn/simple, https://download.pytorch.org/whl/cpu\n",
      "Requirement already satisfied: cchardet in d:\\document\\baidusyncdisk\\mse-files\\llm_rag\\project\\intel_ragneo4j\\venv\\lib\\site-packages (from -r requirements_win.txt (line 2)) (2.1.7)\n",
      "Requirement already satisfied: einops in d:\\document\\baidusyncdisk\\mse-files\\llm_rag\\project\\intel_ragneo4j\\venv\\lib\\site-packages (from -r requirements_win.txt (line 3)) (0.7.0)\n",
      "Requirement already satisfied: evaluate in d:\\document\\baidusyncdisk\\mse-files\\llm_rag\\project\\intel_ragneo4j\\venv\\lib\\site-packages (from -r requirements_win.txt (line 4)) (0.4.1)\n",
      "Requirement already satisfied: fastapi in d:\\document\\baidusyncdisk\\mse-files\\llm_rag\\project\\intel_ragneo4j\\venv\\lib\\site-packages (from -r requirements_win.txt (line 5)) (0.110.2)\n",
      "Requirement already satisfied: fschat==0.2.35 in d:\\document\\baidusyncdisk\\mse-files\\llm_rag\\project\\intel_ragneo4j\\venv\\lib\\site-packages (from -r requirements_win.txt (line 6)) (0.2.35)\n",
      "Requirement already satisfied: huggingface_hub in d:\\document\\baidusyncdisk\\mse-files\\llm_rag\\project\\intel_ragneo4j\\venv\\lib\\site-packages (from -r requirements_win.txt (line 7)) (0.22.2)\n",
      "Requirement already satisfied: intel-extension-for-transformers in d:\\document\\baidusyncdisk\\mse-files\\llm_rag\\project\\intel_ragneo4j\\venv\\lib\\site-packages (from -r requirements_win.txt (line 8)) (1.4.1)\n",
      "Requirement already satisfied: lm-eval in d:\\document\\baidusyncdisk\\mse-files\\llm_rag\\project\\intel_ragneo4j\\venv\\lib\\site-packages (from -r requirements_win.txt (line 9)) (0.4.2)\n",
      "Requirement already satisfied: neural-compressor in d:\\document\\baidusyncdisk\\mse-files\\llm_rag\\project\\intel_ragneo4j\\venv\\lib\\site-packages (from -r requirements_win.txt (line 10)) (2.5.1)\n",
      "Requirement already satisfied: numpy==1.23.5 in d:\\document\\baidusyncdisk\\mse-files\\llm_rag\\project\\intel_ragneo4j\\venv\\lib\\site-packages (from -r requirements_win.txt (line 11)) (1.23.5)\n",
      "Requirement already satisfied: optimum in d:\\document\\baidusyncdisk\\mse-files\\llm_rag\\project\\intel_ragneo4j\\venv\\lib\\site-packages (from -r requirements_win.txt (line 12)) (1.19.1)\n",
      "Requirement already satisfied: optimum-intel in d:\\document\\baidusyncdisk\\mse-files\\llm_rag\\project\\intel_ragneo4j\\venv\\lib\\site-packages (from -r requirements_win.txt (line 13)) (1.16.1)\n",
      "Requirement already satisfied: peft in d:\\document\\baidusyncdisk\\mse-files\\llm_rag\\project\\intel_ragneo4j\\venv\\lib\\site-packages (from -r requirements_win.txt (line 14)) (0.10.0)\n",
      "Requirement already satisfied: pydantic==1.10.13 in d:\\document\\baidusyncdisk\\mse-files\\llm_rag\\project\\intel_ragneo4j\\venv\\lib\\site-packages (from -r requirements_win.txt (line 15)) (1.10.13)\n",
      "Requirement already satisfied: python-dotenv in d:\\document\\baidusyncdisk\\mse-files\\llm_rag\\project\\intel_ragneo4j\\venv\\lib\\site-packages (from -r requirements_win.txt (line 16)) (1.0.1)\n",
      "Requirement already satisfied: python-multipart in d:\\document\\baidusyncdisk\\mse-files\\llm_rag\\project\\intel_ragneo4j\\venv\\lib\\site-packages (from -r requirements_win.txt (line 17)) (0.0.9)\n",
      "Requirement already satisfied: rouge_score in d:\\document\\baidusyncdisk\\mse-files\\llm_rag\\project\\intel_ragneo4j\\venv\\lib\\site-packages (from -r requirements_win.txt (line 18)) (0.1.2)\n",
      "Requirement already satisfied: sacremoses in d:\\document\\baidusyncdisk\\mse-files\\llm_rag\\project\\intel_ragneo4j\\venv\\lib\\site-packages (from -r requirements_win.txt (line 19)) (0.1.1)\n",
      "Requirement already satisfied: shortuuid in d:\\document\\baidusyncdisk\\mse-files\\llm_rag\\project\\intel_ragneo4j\\venv\\lib\\site-packages (from -r requirements_win.txt (line 20)) (1.0.13)\n",
      "Requirement already satisfied: starlette in d:\\document\\baidusyncdisk\\mse-files\\llm_rag\\project\\intel_ragneo4j\\venv\\lib\\site-packages (from -r requirements_win.txt (line 21)) (0.37.2)\n",
      "Requirement already satisfied: torch==2.2.0 in d:\\document\\baidusyncdisk\\mse-files\\llm_rag\\project\\intel_ragneo4j\\venv\\lib\\site-packages (from -r requirements_win.txt (line 22)) (2.2.0+cpu)\n",
      "Requirement already satisfied: torchaudio==2.2.0 in d:\\document\\baidusyncdisk\\mse-files\\llm_rag\\project\\intel_ragneo4j\\venv\\lib\\site-packages (from -r requirements_win.txt (line 23)) (2.2.0+cpu)\n",
      "Requirement already satisfied: transformers in d:\\document\\baidusyncdisk\\mse-files\\llm_rag\\project\\intel_ragneo4j\\venv\\lib\\site-packages (from -r requirements_win.txt (line 24)) (4.40.1)\n",
      "Requirement already satisfied: transformers_stream_generator in d:\\document\\baidusyncdisk\\mse-files\\llm_rag\\project\\intel_ragneo4j\\venv\\lib\\site-packages (from -r requirements_win.txt (line 25)) (0.0.5)\n",
      "Requirement already satisfied: uvicorn in d:\\document\\baidusyncdisk\\mse-files\\llm_rag\\project\\intel_ragneo4j\\venv\\lib\\site-packages (from -r requirements_win.txt (line 26)) (0.29.0)\n",
      "Requirement already satisfied: yacs in d:\\document\\baidusyncdisk\\mse-files\\llm_rag\\project\\intel_ragneo4j\\venv\\lib\\site-packages (from -r requirements_win.txt (line 27)) (0.1.8)\n",
      "Requirement already satisfied: aiohttp in d:\\document\\baidusyncdisk\\mse-files\\llm_rag\\project\\intel_ragneo4j\\venv\\lib\\site-packages (from fschat==0.2.35->-r requirements_win.txt (line 6)) (3.9.4)\n",
      "Requirement already satisfied: requests in d:\\document\\baidusyncdisk\\mse-files\\llm_rag\\project\\intel_ragneo4j\\venv\\lib\\site-packages (from fschat==0.2.35->-r requirements_win.txt (line 6)) (2.31.0)\n",
      "Requirement already satisfied: tiktoken in d:\\document\\baidusyncdisk\\mse-files\\llm_rag\\project\\intel_ragneo4j\\venv\\lib\\site-packages (from fschat==0.2.35->-r requirements_win.txt (line 6)) (0.6.0)\n",
      "Requirement already satisfied: prompt-toolkit>=3.0.0 in d:\\document\\baidusyncdisk\\mse-files\\llm_rag\\project\\intel_ragneo4j\\venv\\lib\\site-packages (from fschat==0.2.35->-r requirements_win.txt (line 6)) (3.0.43)\n",
      "Requirement already satisfied: nh3 in d:\\document\\baidusyncdisk\\mse-files\\llm_rag\\project\\intel_ragneo4j\\venv\\lib\\site-packages (from fschat==0.2.35->-r requirements_win.txt (line 6)) (0.2.17)\n",
      "Requirement already satisfied: httpx in d:\\document\\baidusyncdisk\\mse-files\\llm_rag\\project\\intel_ragneo4j\\venv\\lib\\site-packages (from fschat==0.2.35->-r requirements_win.txt (line 6)) (0.27.0)\n",
      "Requirement already satisfied: markdown2[all] in d:\\document\\baidusyncdisk\\mse-files\\llm_rag\\project\\intel_ragneo4j\\venv\\lib\\site-packages (from fschat==0.2.35->-r requirements_win.txt (line 6)) (2.4.13)\n",
      "Requirement already satisfied: rich>=10.0.0 in d:\\document\\baidusyncdisk\\mse-files\\llm_rag\\project\\intel_ragneo4j\\venv\\lib\\site-packages (from fschat==0.2.35->-r requirements_win.txt (line 6)) (13.7.1)\n",
      "Requirement already satisfied: typing-extensions>=4.2.0 in d:\\document\\baidusyncdisk\\mse-files\\llm_rag\\project\\intel_ragneo4j\\venv\\lib\\site-packages (from pydantic==1.10.13->-r requirements_win.txt (line 15)) (4.11.0)\n",
      "Requirement already satisfied: sympy in d:\\document\\baidusyncdisk\\mse-files\\llm_rag\\project\\intel_ragneo4j\\venv\\lib\\site-packages (from torch==2.2.0->-r requirements_win.txt (line 22)) (1.12)\n",
      "Requirement already satisfied: fsspec in d:\\document\\baidusyncdisk\\mse-files\\llm_rag\\project\\intel_ragneo4j\\venv\\lib\\site-packages (from torch==2.2.0->-r requirements_win.txt (line 22)) (2024.3.1)\n",
      "Requirement already satisfied: jinja2 in d:\\document\\baidusyncdisk\\mse-files\\llm_rag\\project\\intel_ragneo4j\\venv\\lib\\site-packages (from torch==2.2.0->-r requirements_win.txt (line 22)) (3.1.3)\n",
      "Requirement already satisfied: networkx in d:\\document\\baidusyncdisk\\mse-files\\llm_rag\\project\\intel_ragneo4j\\venv\\lib\\site-packages (from torch==2.2.0->-r requirements_win.txt (line 22)) (3.3)\n",
      "Requirement already satisfied: filelock in d:\\document\\baidusyncdisk\\mse-files\\llm_rag\\project\\intel_ragneo4j\\venv\\lib\\site-packages (from torch==2.2.0->-r requirements_win.txt (line 22)) (3.13.4)\n",
      "Requirement already satisfied: pandas in d:\\document\\baidusyncdisk\\mse-files\\llm_rag\\project\\intel_ragneo4j\\venv\\lib\\site-packages (from evaluate->-r requirements_win.txt (line 4)) (2.2.2)\n",
      "Requirement already satisfied: datasets>=2.0.0 in d:\\document\\baidusyncdisk\\mse-files\\llm_rag\\project\\intel_ragneo4j\\venv\\lib\\site-packages (from evaluate->-r requirements_win.txt (line 4)) (2.19.0)\n",
      "Requirement already satisfied: packaging in d:\\document\\baidusyncdisk\\mse-files\\llm_rag\\project\\intel_ragneo4j\\venv\\lib\\site-packages (from evaluate->-r requirements_win.txt (line 4)) (23.2)\n",
      "Requirement already satisfied: dill in d:\\document\\baidusyncdisk\\mse-files\\llm_rag\\project\\intel_ragneo4j\\venv\\lib\\site-packages (from evaluate->-r requirements_win.txt (line 4)) (0.3.8)\n",
      "Requirement already satisfied: xxhash in d:\\document\\baidusyncdisk\\mse-files\\llm_rag\\project\\intel_ragneo4j\\venv\\lib\\site-packages (from evaluate->-r requirements_win.txt (line 4)) (3.4.1)\n",
      "Requirement already satisfied: multiprocess in d:\\document\\baidusyncdisk\\mse-files\\llm_rag\\project\\intel_ragneo4j\\venv\\lib\\site-packages (from evaluate->-r requirements_win.txt (line 4)) (0.70.16)\n",
      "Requirement already satisfied: responses<0.19 in d:\\document\\baidusyncdisk\\mse-files\\llm_rag\\project\\intel_ragneo4j\\venv\\lib\\site-packages (from evaluate->-r requirements_win.txt (line 4)) (0.18.0)\n",
      "Requirement already satisfied: tqdm>=4.62.1 in d:\\document\\baidusyncdisk\\mse-files\\llm_rag\\project\\intel_ragneo4j\\venv\\lib\\site-packages (from evaluate->-r requirements_win.txt (line 4)) (4.66.2)\n",
      "Requirement already satisfied: pyyaml>=5.1 in d:\\document\\baidusyncdisk\\mse-files\\llm_rag\\project\\intel_ragneo4j\\venv\\lib\\site-packages (from huggingface_hub->-r requirements_win.txt (line 7)) (6.0.1)\n",
      "Requirement already satisfied: schema in d:\\document\\baidusyncdisk\\mse-files\\llm_rag\\project\\intel_ragneo4j\\venv\\lib\\site-packages (from intel-extension-for-transformers->-r requirements_win.txt (line 8)) (0.7.5)\n",
      "Requirement already satisfied: more-itertools in d:\\document\\baidusyncdisk\\mse-files\\llm_rag\\project\\intel_ragneo4j\\venv\\lib\\site-packages (from lm-eval->-r requirements_win.txt (line 9)) (10.2.0)\n",
      "Requirement already satisfied: word2number in d:\\document\\baidusyncdisk\\mse-files\\llm_rag\\project\\intel_ragneo4j\\venv\\lib\\site-packages (from lm-eval->-r requirements_win.txt (line 9)) (1.1)\n",
      "Requirement already satisfied: numexpr in d:\\document\\baidusyncdisk\\mse-files\\llm_rag\\project\\intel_ragneo4j\\venv\\lib\\site-packages (from lm-eval->-r requirements_win.txt (line 9)) (2.10.0)\n",
      "Requirement already satisfied: zstandard in d:\\document\\baidusyncdisk\\mse-files\\llm_rag\\project\\intel_ragneo4j\\venv\\lib\\site-packages (from lm-eval->-r requirements_win.txt (line 9)) (0.22.0)\n",
      "Requirement already satisfied: sacrebleu>=1.5.0 in d:\\document\\baidusyncdisk\\mse-files\\llm_rag\\project\\intel_ragneo4j\\venv\\lib\\site-packages (from lm-eval->-r requirements_win.txt (line 9)) (2.4.2)\n",
      "Requirement already satisfied: pybind11>=2.6.2 in d:\\document\\baidusyncdisk\\mse-files\\llm_rag\\project\\intel_ragneo4j\\venv\\lib\\site-packages (from lm-eval->-r requirements_win.txt (line 9)) (2.12.0)\n",
      "Requirement already satisfied: sqlitedict in d:\\document\\baidusyncdisk\\mse-files\\llm_rag\\project\\intel_ragneo4j\\venv\\lib\\site-packages (from lm-eval->-r requirements_win.txt (line 9)) (2.1.0)\n",
      "Requirement already satisfied: scikit-learn>=0.24.1 in d:\\document\\baidusyncdisk\\mse-files\\llm_rag\\project\\intel_ragneo4j\\venv\\lib\\site-packages (from lm-eval->-r requirements_win.txt (line 9)) (1.4.2)\n",
      "Requirement already satisfied: jsonlines in d:\\document\\baidusyncdisk\\mse-files\\llm_rag\\project\\intel_ragneo4j\\venv\\lib\\site-packages (from lm-eval->-r requirements_win.txt (line 9)) (4.0.0)\n",
      "Requirement already satisfied: accelerate>=0.21.0 in d:\\document\\baidusyncdisk\\mse-files\\llm_rag\\project\\intel_ragneo4j\\venv\\lib\\site-packages (from lm-eval->-r requirements_win.txt (line 9)) (0.29.3)\n",
      "Requirement already satisfied: tqdm-multiprocess in d:\\document\\baidusyncdisk\\mse-files\\llm_rag\\project\\intel_ragneo4j\\venv\\lib\\site-packages (from lm-eval->-r requirements_win.txt (line 9)) (0.0.11)\n",
      "Requirement already satisfied: pytablewriter in d:\\document\\baidusyncdisk\\mse-files\\llm_rag\\project\\intel_ragneo4j\\venv\\lib\\site-packages (from lm-eval->-r requirements_win.txt (line 9)) (1.2.0)\n",
      "Requirement already satisfied: py-cpuinfo in d:\\document\\baidusyncdisk\\mse-files\\llm_rag\\project\\intel_ragneo4j\\venv\\lib\\site-packages (from neural-compressor->-r requirements_win.txt (line 10)) (9.0.0)\n",
      "Requirement already satisfied: opencv-python-headless in d:\\document\\baidusyncdisk\\mse-files\\llm_rag\\project\\intel_ragneo4j\\venv\\lib\\site-packages (from neural-compressor->-r requirements_win.txt (line 10)) (4.9.0.80)\n",
      "Requirement already satisfied: psutil in d:\\document\\baidusyncdisk\\mse-files\\llm_rag\\project\\intel_ragneo4j\\venv\\lib\\site-packages (from neural-compressor->-r requirements_win.txt (line 10)) (5.9.8)\n",
      "Requirement already satisfied: pycocotools in d:\\document\\baidusyncdisk\\mse-files\\llm_rag\\project\\intel_ragneo4j\\venv\\lib\\site-packages (from neural-compressor->-r requirements_win.txt (line 10)) (2.0.7)\n",
      "Requirement already satisfied: deprecated>=1.2.13 in d:\\document\\baidusyncdisk\\mse-files\\llm_rag\\project\\intel_ragneo4j\\venv\\lib\\site-packages (from neural-compressor->-r requirements_win.txt (line 10)) (1.2.14)\n",
      "Requirement already satisfied: Pillow in d:\\document\\baidusyncdisk\\mse-files\\llm_rag\\project\\intel_ragneo4j\\venv\\lib\\site-packages (from neural-compressor->-r requirements_win.txt (line 10)) (10.3.0)\n",
      "Requirement already satisfied: prettytable in d:\\document\\baidusyncdisk\\mse-files\\llm_rag\\project\\intel_ragneo4j\\venv\\lib\\site-packages (from neural-compressor->-r requirements_win.txt (line 10)) (3.10.0)\n",
      "Requirement already satisfied: coloredlogs in d:\\document\\baidusyncdisk\\mse-files\\llm_rag\\project\\intel_ragneo4j\\venv\\lib\\site-packages (from optimum->-r requirements_win.txt (line 12)) (15.0.1)\n",
      "Requirement already satisfied: scipy in d:\\document\\baidusyncdisk\\mse-files\\llm_rag\\project\\intel_ragneo4j\\venv\\lib\\site-packages (from optimum-intel->-r requirements_win.txt (line 13)) (1.13.0)\n",
      "Requirement already satisfied: onnx in d:\\document\\baidusyncdisk\\mse-files\\llm_rag\\project\\intel_ragneo4j\\venv\\lib\\site-packages (from optimum-intel->-r requirements_win.txt (line 13)) (1.16.0)\n",
      "Requirement already satisfied: sentencepiece in d:\\document\\baidusyncdisk\\mse-files\\llm_rag\\project\\intel_ragneo4j\\venv\\lib\\site-packages (from optimum-intel->-r requirements_win.txt (line 13)) (0.2.0)\n",
      "Requirement already satisfied: safetensors in d:\\document\\baidusyncdisk\\mse-files\\llm_rag\\project\\intel_ragneo4j\\venv\\lib\\site-packages (from peft->-r requirements_win.txt (line 14)) (0.4.3)\n",
      "Requirement already satisfied: absl-py in d:\\document\\baidusyncdisk\\mse-files\\llm_rag\\project\\intel_ragneo4j\\venv\\lib\\site-packages (from rouge_score->-r requirements_win.txt (line 18)) (2.1.0)\n",
      "Requirement already satisfied: nltk in d:\\document\\baidusyncdisk\\mse-files\\llm_rag\\project\\intel_ragneo4j\\venv\\lib\\site-packages (from rouge_score->-r requirements_win.txt (line 18)) (3.8.1)\n",
      "Requirement already satisfied: six>=1.14.0 in d:\\document\\baidusyncdisk\\mse-files\\llm_rag\\project\\intel_ragneo4j\\venv\\lib\\site-packages (from rouge_score->-r requirements_win.txt (line 18)) (1.16.0)\n",
      "Requirement already satisfied: joblib in d:\\document\\baidusyncdisk\\mse-files\\llm_rag\\project\\intel_ragneo4j\\venv\\lib\\site-packages (from sacremoses->-r requirements_win.txt (line 19)) (1.4.0)\n",
      "Requirement already satisfied: regex in d:\\document\\baidusyncdisk\\mse-files\\llm_rag\\project\\intel_ragneo4j\\venv\\lib\\site-packages (from sacremoses->-r requirements_win.txt (line 19)) (2023.12.25)\n",
      "Requirement already satisfied: click in d:\\document\\baidusyncdisk\\mse-files\\llm_rag\\project\\intel_ragneo4j\\venv\\lib\\site-packages (from sacremoses->-r requirements_win.txt (line 19)) (8.1.7)\n",
      "Requirement already satisfied: anyio<5,>=3.4.0 in d:\\document\\baidusyncdisk\\mse-files\\llm_rag\\project\\intel_ragneo4j\\venv\\lib\\site-packages (from starlette->-r requirements_win.txt (line 21)) (4.3.0)\n",
      "Requirement already satisfied: tokenizers<0.20,>=0.19 in d:\\document\\baidusyncdisk\\mse-files\\llm_rag\\project\\intel_ragneo4j\\venv\\lib\\site-packages (from transformers->-r requirements_win.txt (line 24)) (0.19.1)\n",
      "Requirement already satisfied: h11>=0.8 in d:\\document\\baidusyncdisk\\mse-files\\llm_rag\\project\\intel_ragneo4j\\venv\\lib\\site-packages (from uvicorn->-r requirements_win.txt (line 26)) (0.14.0)\n",
      "Requirement already satisfied: exceptiongroup>=1.0.2 in d:\\document\\baidusyncdisk\\mse-files\\llm_rag\\project\\intel_ragneo4j\\venv\\lib\\site-packages (from anyio<5,>=3.4.0->starlette->-r requirements_win.txt (line 21)) (1.2.0)\n",
      "Requirement already satisfied: sniffio>=1.1 in d:\\document\\baidusyncdisk\\mse-files\\llm_rag\\project\\intel_ragneo4j\\venv\\lib\\site-packages (from anyio<5,>=3.4.0->starlette->-r requirements_win.txt (line 21)) (1.3.1)\n",
      "Requirement already satisfied: idna>=2.8 in d:\\document\\baidusyncdisk\\mse-files\\llm_rag\\project\\intel_ragneo4j\\venv\\lib\\site-packages (from anyio<5,>=3.4.0->starlette->-r requirements_win.txt (line 21)) (3.7)\n",
      "Requirement already satisfied: colorama in d:\\document\\baidusyncdisk\\mse-files\\llm_rag\\project\\intel_ragneo4j\\venv\\lib\\site-packages (from click->sacremoses->-r requirements_win.txt (line 19)) (0.4.6)\n",
      "Requirement already satisfied: pyarrow>=12.0.0 in d:\\document\\baidusyncdisk\\mse-files\\llm_rag\\project\\intel_ragneo4j\\venv\\lib\\site-packages (from datasets>=2.0.0->evaluate->-r requirements_win.txt (line 4)) (16.0.0)\n",
      "Requirement already satisfied: pyarrow-hotfix in d:\\document\\baidusyncdisk\\mse-files\\llm_rag\\project\\intel_ragneo4j\\venv\\lib\\site-packages (from datasets>=2.0.0->evaluate->-r requirements_win.txt (line 4)) (0.6)\n",
      "Requirement already satisfied: wrapt<2,>=1.10 in d:\\document\\baidusyncdisk\\mse-files\\llm_rag\\project\\intel_ragneo4j\\venv\\lib\\site-packages (from deprecated>=1.2.13->neural-compressor->-r requirements_win.txt (line 10)) (1.16.0)\n",
      "Requirement already satisfied: attrs>=17.3.0 in d:\\document\\baidusyncdisk\\mse-files\\llm_rag\\project\\intel_ragneo4j\\venv\\lib\\site-packages (from aiohttp->fschat==0.2.35->-r requirements_win.txt (line 6)) (23.2.0)\n",
      "Requirement already satisfied: async-timeout<5.0,>=4.0 in d:\\document\\baidusyncdisk\\mse-files\\llm_rag\\project\\intel_ragneo4j\\venv\\lib\\site-packages (from aiohttp->fschat==0.2.35->-r requirements_win.txt (line 6)) (4.0.3)\n",
      "Requirement already satisfied: yarl<2.0,>=1.0 in d:\\document\\baidusyncdisk\\mse-files\\llm_rag\\project\\intel_ragneo4j\\venv\\lib\\site-packages (from aiohttp->fschat==0.2.35->-r requirements_win.txt (line 6)) (1.9.4)\n",
      "Requirement already satisfied: aiosignal>=1.1.2 in d:\\document\\baidusyncdisk\\mse-files\\llm_rag\\project\\intel_ragneo4j\\venv\\lib\\site-packages (from aiohttp->fschat==0.2.35->-r requirements_win.txt (line 6)) (1.3.1)\n",
      "Requirement already satisfied: multidict<7.0,>=4.5 in d:\\document\\baidusyncdisk\\mse-files\\llm_rag\\project\\intel_ragneo4j\\venv\\lib\\site-packages (from aiohttp->fschat==0.2.35->-r requirements_win.txt (line 6)) (6.0.5)\n",
      "Requirement already satisfied: frozenlist>=1.1.1 in d:\\document\\baidusyncdisk\\mse-files\\llm_rag\\project\\intel_ragneo4j\\venv\\lib\\site-packages (from aiohttp->fschat==0.2.35->-r requirements_win.txt (line 6)) (1.4.1)\n",
      "Requirement already satisfied: wcwidth in d:\\document\\baidusyncdisk\\mse-files\\llm_rag\\project\\intel_ragneo4j\\venv\\lib\\site-packages (from prompt-toolkit>=3.0.0->fschat==0.2.35->-r requirements_win.txt (line 6)) (0.2.13)\n",
      "Requirement already satisfied: charset-normalizer<4,>=2 in d:\\document\\baidusyncdisk\\mse-files\\llm_rag\\project\\intel_ragneo4j\\venv\\lib\\site-packages (from requests->fschat==0.2.35->-r requirements_win.txt (line 6)) (3.3.2)\n",
      "Requirement already satisfied: certifi>=2017.4.17 in d:\\document\\baidusyncdisk\\mse-files\\llm_rag\\project\\intel_ragneo4j\\venv\\lib\\site-packages (from requests->fschat==0.2.35->-r requirements_win.txt (line 6)) (2024.2.2)\n",
      "Requirement already satisfied: urllib3<3,>=1.21.1 in d:\\document\\baidusyncdisk\\mse-files\\llm_rag\\project\\intel_ragneo4j\\venv\\lib\\site-packages (from requests->fschat==0.2.35->-r requirements_win.txt (line 6)) (2.2.1)\n",
      "Requirement already satisfied: pygments<3.0.0,>=2.13.0 in d:\\document\\baidusyncdisk\\mse-files\\llm_rag\\project\\intel_ragneo4j\\venv\\lib\\site-packages (from rich>=10.0.0->fschat==0.2.35->-r requirements_win.txt (line 6)) (2.17.2)\n",
      "Requirement already satisfied: markdown-it-py>=2.2.0 in d:\\document\\baidusyncdisk\\mse-files\\llm_rag\\project\\intel_ragneo4j\\venv\\lib\\site-packages (from rich>=10.0.0->fschat==0.2.35->-r requirements_win.txt (line 6)) (3.0.0)\n",
      "Requirement already satisfied: portalocker in d:\\document\\baidusyncdisk\\mse-files\\llm_rag\\project\\intel_ragneo4j\\venv\\lib\\site-packages (from sacrebleu>=1.5.0->lm-eval->-r requirements_win.txt (line 9)) (2.8.2)\n",
      "Requirement already satisfied: tabulate>=0.8.9 in d:\\document\\baidusyncdisk\\mse-files\\llm_rag\\project\\intel_ragneo4j\\venv\\lib\\site-packages (from sacrebleu>=1.5.0->lm-eval->-r requirements_win.txt (line 9)) (0.9.0)\n",
      "Requirement already satisfied: lxml in d:\\document\\baidusyncdisk\\mse-files\\llm_rag\\project\\intel_ragneo4j\\venv\\lib\\site-packages (from sacrebleu>=1.5.0->lm-eval->-r requirements_win.txt (line 9)) (5.2.1)\n",
      "Requirement already satisfied: threadpoolctl>=2.0.0 in d:\\document\\baidusyncdisk\\mse-files\\llm_rag\\project\\intel_ragneo4j\\venv\\lib\\site-packages (from scikit-learn>=0.24.1->lm-eval->-r requirements_win.txt (line 9)) (3.4.0)\n",
      "Requirement already satisfied: protobuf in d:\\document\\baidusyncdisk\\mse-files\\llm_rag\\project\\intel_ragneo4j\\venv\\lib\\site-packages (from transformers->-r requirements_win.txt (line 24)) (5.26.1)\n",
      "Requirement already satisfied: humanfriendly>=9.1 in d:\\document\\baidusyncdisk\\mse-files\\llm_rag\\project\\intel_ragneo4j\\venv\\lib\\site-packages (from coloredlogs->optimum->-r requirements_win.txt (line 12)) (10.0)\n",
      "Requirement already satisfied: httpcore==1.* in d:\\document\\baidusyncdisk\\mse-files\\llm_rag\\project\\intel_ragneo4j\\venv\\lib\\site-packages (from httpx->fschat==0.2.35->-r requirements_win.txt (line 6)) (1.0.5)\n",
      "Requirement already satisfied: MarkupSafe>=2.0 in d:\\document\\baidusyncdisk\\mse-files\\llm_rag\\project\\intel_ragneo4j\\venv\\lib\\site-packages (from jinja2->torch==2.2.0->-r requirements_win.txt (line 22)) (2.1.5)\n",
      "Requirement already satisfied: wavedrom in d:\\document\\baidusyncdisk\\mse-files\\llm_rag\\project\\intel_ragneo4j\\venv\\lib\\site-packages (from markdown2[all]->fschat==0.2.35->-r requirements_win.txt (line 6)) (2.0.3.post3)\n",
      "Requirement already satisfied: python-dateutil>=2.8.2 in d:\\document\\baidusyncdisk\\mse-files\\llm_rag\\project\\intel_ragneo4j\\venv\\lib\\site-packages (from pandas->evaluate->-r requirements_win.txt (line 4)) (2.9.0.post0)\n",
      "Requirement already satisfied: tzdata>=2022.7 in d:\\document\\baidusyncdisk\\mse-files\\llm_rag\\project\\intel_ragneo4j\\venv\\lib\\site-packages (from pandas->evaluate->-r requirements_win.txt (line 4)) (2024.1)\n",
      "Requirement already satisfied: pytz>=2020.1 in d:\\document\\baidusyncdisk\\mse-files\\llm_rag\\project\\intel_ragneo4j\\venv\\lib\\site-packages (from pandas->evaluate->-r requirements_win.txt (line 4)) (2024.1)\n",
      "Requirement already satisfied: matplotlib>=2.1.0 in d:\\document\\baidusyncdisk\\mse-files\\llm_rag\\project\\intel_ragneo4j\\venv\\lib\\site-packages (from pycocotools->neural-compressor->-r requirements_win.txt (line 10)) (3.8.4)\n",
      "Requirement already satisfied: setuptools>=38.3.0 in d:\\document\\baidusyncdisk\\mse-files\\llm_rag\\project\\intel_ragneo4j\\venv\\lib\\site-packages (from pytablewriter->lm-eval->-r requirements_win.txt (line 9)) (65.5.0)\n",
      "Requirement already satisfied: mbstrdecoder<2,>=1.0.0 in d:\\document\\baidusyncdisk\\mse-files\\llm_rag\\project\\intel_ragneo4j\\venv\\lib\\site-packages (from pytablewriter->lm-eval->-r requirements_win.txt (line 9)) (1.1.3)\n",
      "Requirement already satisfied: DataProperty<2,>=1.0.1 in d:\\document\\baidusyncdisk\\mse-files\\llm_rag\\project\\intel_ragneo4j\\venv\\lib\\site-packages (from pytablewriter->lm-eval->-r requirements_win.txt (line 9)) (1.0.1)\n",
      "Requirement already satisfied: tabledata<2,>=1.3.1 in d:\\document\\baidusyncdisk\\mse-files\\llm_rag\\project\\intel_ragneo4j\\venv\\lib\\site-packages (from pytablewriter->lm-eval->-r requirements_win.txt (line 9)) (1.3.3)\n",
      "Requirement already satisfied: typepy[datetime]<2,>=1.3.2 in d:\\document\\baidusyncdisk\\mse-files\\llm_rag\\project\\intel_ragneo4j\\venv\\lib\\site-packages (from pytablewriter->lm-eval->-r requirements_win.txt (line 9)) (1.3.2)\n",
      "Requirement already satisfied: tcolorpy<1,>=0.0.5 in d:\\document\\baidusyncdisk\\mse-files\\llm_rag\\project\\intel_ragneo4j\\venv\\lib\\site-packages (from pytablewriter->lm-eval->-r requirements_win.txt (line 9)) (0.1.4)\n",
      "Requirement already satisfied: pathvalidate<4,>=2.3.0 in d:\\document\\baidusyncdisk\\mse-files\\llm_rag\\project\\intel_ragneo4j\\venv\\lib\\site-packages (from pytablewriter->lm-eval->-r requirements_win.txt (line 9)) (3.2.0)\n",
      "Requirement already satisfied: contextlib2>=0.5.5 in d:\\document\\baidusyncdisk\\mse-files\\llm_rag\\project\\intel_ragneo4j\\venv\\lib\\site-packages (from schema->intel-extension-for-transformers->-r requirements_win.txt (line 8)) (21.6.0)\n",
      "Requirement already satisfied: mpmath>=0.19 in d:\\document\\baidusyncdisk\\mse-files\\llm_rag\\project\\intel_ragneo4j\\venv\\lib\\site-packages (from sympy->torch==2.2.0->-r requirements_win.txt (line 22)) (1.3.0)\n",
      "Requirement already satisfied: pyreadline3 in d:\\document\\baidusyncdisk\\mse-files\\llm_rag\\project\\intel_ragneo4j\\venv\\lib\\site-packages (from humanfriendly>=9.1->coloredlogs->optimum->-r requirements_win.txt (line 12)) (3.4.1)\n",
      "Requirement already satisfied: mdurl~=0.1 in d:\\document\\baidusyncdisk\\mse-files\\llm_rag\\project\\intel_ragneo4j\\venv\\lib\\site-packages (from markdown-it-py>=2.2.0->rich>=10.0.0->fschat==0.2.35->-r requirements_win.txt (line 6)) (0.1.2)\n",
      "Requirement already satisfied: fonttools>=4.22.0 in d:\\document\\baidusyncdisk\\mse-files\\llm_rag\\project\\intel_ragneo4j\\venv\\lib\\site-packages (from matplotlib>=2.1.0->pycocotools->neural-compressor->-r requirements_win.txt (line 10)) (4.51.0)\n",
      "Requirement already satisfied: cycler>=0.10 in d:\\document\\baidusyncdisk\\mse-files\\llm_rag\\project\\intel_ragneo4j\\venv\\lib\\site-packages (from matplotlib>=2.1.0->pycocotools->neural-compressor->-r requirements_win.txt (line 10)) (0.12.1)\n",
      "Requirement already satisfied: kiwisolver>=1.3.1 in d:\\document\\baidusyncdisk\\mse-files\\llm_rag\\project\\intel_ragneo4j\\venv\\lib\\site-packages (from matplotlib>=2.1.0->pycocotools->neural-compressor->-r requirements_win.txt (line 10)) (1.4.5)\n",
      "Requirement already satisfied: contourpy>=1.0.1 in d:\\document\\baidusyncdisk\\mse-files\\llm_rag\\project\\intel_ragneo4j\\venv\\lib\\site-packages (from matplotlib>=2.1.0->pycocotools->neural-compressor->-r requirements_win.txt (line 10)) (1.2.1)\n",
      "Requirement already satisfied: pyparsing>=2.3.1 in d:\\document\\baidusyncdisk\\mse-files\\llm_rag\\project\\intel_ragneo4j\\venv\\lib\\site-packages (from matplotlib>=2.1.0->pycocotools->neural-compressor->-r requirements_win.txt (line 10)) (3.1.2)\n",
      "Requirement already satisfied: chardet<6,>=3.0.4 in d:\\document\\baidusyncdisk\\mse-files\\llm_rag\\project\\intel_ragneo4j\\venv\\lib\\site-packages (from mbstrdecoder<2,>=1.0.0->pytablewriter->lm-eval->-r requirements_win.txt (line 9)) (5.2.0)\n",
      "Requirement already satisfied: pywin32>=226 in d:\\document\\baidusyncdisk\\mse-files\\llm_rag\\project\\intel_ragneo4j\\venv\\lib\\site-packages (from portalocker->sacrebleu>=1.5.0->lm-eval->-r requirements_win.txt (line 9)) (306)\n",
      "Requirement already satisfied: svgwrite in d:\\document\\baidusyncdisk\\mse-files\\llm_rag\\project\\intel_ragneo4j\\venv\\lib\\site-packages (from wavedrom->markdown2[all]->fschat==0.2.35->-r requirements_win.txt (line 6)) (1.4.3)\n",
      "Note: you may need to restart the kernel to use updated packages.\n"
     ]
    },
    {
     "name": "stderr",
     "output_type": "stream",
     "text": [
      "\n",
      "[notice] A new release of pip is available: 23.0.1 -> 24.0\n",
      "[notice] To update, run: python.exe -m pip install --upgrade pip\n"
     ]
    }
   ],
   "source": [
    "%pip install -r requirements_win.txt"
   ]
  },
  {
   "cell_type": "code",
   "execution_count": 7,
   "metadata": {},
   "outputs": [
    {
     "ename": "ImportError",
     "evalue": "Unable to initialize 'retrieval' plugin due to missing dependency packages.\nPlease run pip install -r requirements.txt to enable.\nPlease find the 'requirements.txt' file in the directory 'intel_extension_for_transformers.neural_chat.pipeline.plugins.retrieval'.",
     "output_type": "error",
     "traceback": [
      "\u001b[1;31m---------------------------------------------------------------------------\u001b[0m",
      "\u001b[1;31mImportError\u001b[0m                               Traceback (most recent call last)",
      "Cell \u001b[1;32mIn[7], line 7\u001b[0m\n\u001b[0;32m      4\u001b[0m \u001b[38;5;28;01mfrom\u001b[39;00m \u001b[38;5;21;01mintel_extension_for_transformers\u001b[39;00m\u001b[38;5;21;01m.\u001b[39;00m\u001b[38;5;21;01mtransformers\u001b[39;00m \u001b[38;5;28;01mimport\u001b[39;00m RtnConfig\n\u001b[0;32m      6\u001b[0m config \u001b[38;5;241m=\u001b[39m PipelineConfig(model_name_or_path\u001b[38;5;241m=\u001b[39m\u001b[38;5;124m'\u001b[39m\u001b[38;5;124m./chatglm2-6b\u001b[39m\u001b[38;5;124m'\u001b[39m,plugins\u001b[38;5;241m=\u001b[39mplugins)\n\u001b[1;32m----> 7\u001b[0m chatbot \u001b[38;5;241m=\u001b[39m \u001b[43mbuild_chatbot\u001b[49m\u001b[43m(\u001b[49m\u001b[43mconfig\u001b[49m\u001b[43m)\u001b[49m\n\u001b[0;32m      8\u001b[0m \u001b[38;5;28mprint\u001b[39m(chatbot)\n",
      "File \u001b[1;32md:\\Document\\BaiduSyncdisk\\MSE-Files\\LLM_RAG\\Project\\Intel_RagNeo4j\\venv\\lib\\site-packages\\intel_extension_for_transformers\\neural_chat\\chatbot.py:205\u001b[0m, in \u001b[0;36mbuild_chatbot\u001b[1;34m(config)\u001b[0m\n\u001b[0;32m    203\u001b[0m \u001b[38;5;28;01mif\u001b[39;00m plugin_name \u001b[38;5;241m==\u001b[39m \u001b[38;5;124m\"\u001b[39m\u001b[38;5;124mretrieval\u001b[39m\u001b[38;5;124m\"\u001b[39m:\n\u001b[0;32m    204\u001b[0m     \u001b[38;5;28;01mif\u001b[39;00m \u001b[38;5;129;01mnot\u001b[39;00m check_retrieval_dependency():\n\u001b[1;32m--> 205\u001b[0m         \u001b[38;5;28;01mraise\u001b[39;00m \u001b[38;5;167;01mImportError\u001b[39;00m(\n\u001b[0;32m    206\u001b[0m             \u001b[38;5;124mf\u001b[39m\u001b[38;5;124m\"\u001b[39m\u001b[38;5;124mUnable to initialize \u001b[39m\u001b[38;5;124m'\u001b[39m\u001b[38;5;124mretrieval\u001b[39m\u001b[38;5;124m'\u001b[39m\u001b[38;5;124m plugin due to missing dependency packages.\u001b[39m\u001b[38;5;130;01m\\n\u001b[39;00m\u001b[38;5;124m\"\u001b[39m \\\n\u001b[0;32m    207\u001b[0m             \u001b[38;5;124mf\u001b[39m\u001b[38;5;124m\"\u001b[39m\u001b[38;5;124mPlease run pip install -r requirements.txt to enable.\u001b[39m\u001b[38;5;130;01m\\n\u001b[39;00m\u001b[38;5;124m\"\u001b[39m \\\n\u001b[0;32m    208\u001b[0m             \u001b[38;5;124mf\u001b[39m\u001b[38;5;124m\"\u001b[39m\u001b[38;5;124mPlease find the \u001b[39m\u001b[38;5;124m'\u001b[39m\u001b[38;5;124mrequirements.txt\u001b[39m\u001b[38;5;124m'\u001b[39m\u001b[38;5;124m file in the directory \u001b[39m\u001b[38;5;124m\"\u001b[39m \\\n\u001b[0;32m    209\u001b[0m             \u001b[38;5;124m\"\u001b[39m\u001b[38;5;124m'\u001b[39m\u001b[38;5;124mintel_extension_for_transformers.neural_chat.pipeline.plugins.retrieval\u001b[39m\u001b[38;5;124m'\u001b[39m\u001b[38;5;124m.\u001b[39m\u001b[38;5;124m\"\u001b[39m\n\u001b[0;32m    210\u001b[0m         )\n\u001b[0;32m    211\u001b[0m \u001b[38;5;28;01mif\u001b[39;00m plugin_name \u001b[38;5;241m==\u001b[39m \u001b[38;5;124m\"\u001b[39m\u001b[38;5;124mface_animation\u001b[39m\u001b[38;5;124m\"\u001b[39m:\n\u001b[0;32m    212\u001b[0m     \u001b[38;5;28;01mif\u001b[39;00m \u001b[38;5;129;01mnot\u001b[39;00m check_faceanimation_dependency():\n",
      "\u001b[1;31mImportError\u001b[0m: Unable to initialize 'retrieval' plugin due to missing dependency packages.\nPlease run pip install -r requirements.txt to enable.\nPlease find the 'requirements.txt' file in the directory 'intel_extension_for_transformers.neural_chat.pipeline.plugins.retrieval'."
     ]
    }
   ],
   "source": [
    "from intel_extension_for_transformers.neural_chat import PipelineConfig\n",
    "from intel_extension_for_transformers.neural_chat import build_chatbot\n",
    "from intel_extension_for_transformers.neural_chat import plugins\n",
    "from intel_extension_for_transformers.transformers import RtnConfig\n",
    "\n",
    "config = PipelineConfig(model_name_or_path='./chatglm2-6b',plugins=plugins)\n",
    "chatbot = build_chatbot(config)\n",
    "print(chatbot)\n"
   ]
  },
  {
   "cell_type": "code",
   "execution_count": 4,
   "metadata": {},
   "outputs": [
    {
     "name": "stdout",
     "output_type": "stream",
     "text": [
      "Loading model ./Qwen-7B\n"
     ]
    },
    {
     "name": "stderr",
     "output_type": "stream",
     "text": [
      "Loading checkpoint shards: 100%|██████████| 8/8 [00:00<00:00,  9.50it/s]"
     ]
    },
    {
     "name": "stdout",
     "output_type": "stream",
     "text": [
      "28-23-2024 20:23:26 root:INFO:Model loaded.\n",
      "28-23-2024 20:23:26 intel_extension_for_transformers.neural_chat.utils.error_utils:ERROR:neuralchat error: Model inference failed\n",
      "None\n",
      "0.00300 seconds\n"
     ]
    },
    {
     "name": "stderr",
     "output_type": "stream",
     "text": [
      "\n"
     ]
    }
   ],
   "source": [
    "# Build chatbot\n",
    "from intel_extension_for_transformers.neural_chat import build_chatbot, PipelineConfig\n",
    "from time import time\n",
    "\n",
    "\n",
    "#config = PipelineConfig(model_name_or_path='./chatglm2-6b')\n",
    "config = PipelineConfig(model_name_or_path='./Qwen-7B')\n",
    "chatbot = build_chatbot(config)\n",
    "\n",
    "# Perform inference/generate a response\n",
    "start = time()\n",
    "response = chatbot.predict(query=\"你是谁？\")\n",
    "end = time()\n",
    "print(response)\n",
    "print(\"%.5f seconds\" %(end-start))"
   ]
  },
  {
   "cell_type": "code",
   "execution_count": 5,
   "metadata": {},
   "outputs": [
    {
     "name": "stdout",
     "output_type": "stream",
     "text": [
      "28-19-2024 22:19:18 intel_extension_for_transformers.neural_chat.utils.error_utils:ERROR:neuralchat error: Model inference failed\n"
     ]
    }
   ],
   "source": [
    "plugins.retrieval.enable=True # enable retrieval\n",
    "response = chatbot.predict(query=\"cnvrg.io 网站是由谁创建的？\")\n"
   ]
  }
 ],
 "metadata": {
  "kernelspec": {
   "display_name": "venv",
   "language": "python",
   "name": "python3"
  },
  "language_info": {
   "codemirror_mode": {
    "name": "ipython",
    "version": 3
   },
   "file_extension": ".py",
   "mimetype": "text/x-python",
   "name": "python",
   "nbconvert_exporter": "python",
   "pygments_lexer": "ipython3",
   "version": "3.10.11"
  }
 },
 "nbformat": 4,
 "nbformat_minor": 2
}
